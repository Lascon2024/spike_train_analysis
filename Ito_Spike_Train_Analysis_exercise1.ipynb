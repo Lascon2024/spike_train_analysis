{
 "cells": [
  {
   "cell_type": "markdown",
   "metadata": {},
   "source": [
    "# Spike Train Analysis: exercise 1\n",
    "\n",
    "This tutorial covers the following topics:\n",
    "\n",
    "* Introduction to NEO and Elephant\n",
    "* Computing ISI distribution and PSTH of spike trains using Elephant functions"
   ]
  },
  {
   "cell_type": "markdown",
   "metadata": {},
   "source": [
    "## NEO: representing electrophysiology data in Python\n",
    "\n",
    "<img src=\"images/neo_logo.png\" alt=\"Neo Logo\" width=\"800\"/>\n",
    "\n",
    "|||\n",
    "|--:|---|\n",
    "|Homepage|[http://neuralensemble.org/neo](http://neuralensemble.org/neo)  |\n",
    "|GitHub|[https://github.com/NeuralEnsemble/python-neo](https://github.com/NeuralEnsemble/python-neo)|\n",
    "|Documentation|[https://neo.readthedocs.io/en/latest/](https://neo.readthedocs.io/en/latest/)|\n",
    "|Bug reports|[https://github.com/NeuralEnsemble/python-neo/issues](https://github.com/NeuralEnsemble/python-neo/issues) |\n",
    "|Python Package Index (PyPI)|[https://pypi.org/project/neo/](https://pypi.org/project/neo/) |\n",
    "\n",
    "NEO provides a collection of useful Python class objects that are designed specifically for storing electrophysiology recording data.\n",
    "\n",
    "The schematic below illustrates the NEO data object model.\n",
    "\n",
    "![Structure](images/base_schematic.png)"
   ]
  },
  {
   "cell_type": "markdown",
   "metadata": {},
   "source": [
    "## Elephant: data processing and analysis\n",
    "\n",
    "![Elephant](images/elephant_logo.png)\n",
    "\n",
    "|||\n",
    "|--:|---|\n",
    "|Homepage|[http://python-elephant.org](http://python-elephant.org)  |\n",
    "|GitHub|[https://github.com/NeuralEnsemble/elephant](https://github.com/NeuralEnsemble/elephant)|\n",
    "|Documentation|[https://elephant.readthedocs.io/en/stable/](https://elephant.readthedocs.io/en/stable/)|\n",
    "|Bug reports|[https://github.com/NeuralEnsemble/elephant/issues](https://github.com/NeuralEnsemble/elephant/issues) |\n",
    "|Python Package Index (PyPI)|[https://pypi.org/project/elephant/](https://pypi.org/project/elephant/) |\n",
    "\n",
    "Elephant, short for ELEctroPHysiology Analysis Toolkit, is an open-source library for the analysis of electrophysiology data in Python.\n",
    "It depends on NEO as the backend for data representation. This means that many of Elephant functions take NEO data objects as input and return the results also as NEO data objects."
   ]
  },
  {
   "cell_type": "code",
   "execution_count": null,
   "metadata": {},
   "outputs": [],
   "source": [
    "import numpy as np\n",
    "import quantities as pq\n",
    "import neo\n",
    "import elephant.spike_train_generation as stgen\n",
    "import elephant.statistics as stats\n",
    "import matplotlib.pyplot as plt"
   ]
  },
  {
   "cell_type": "markdown",
   "metadata": {},
   "source": [
    "## Task 1.1: generate and handle `neo.SpikeTrain` object\n",
    "\n",
    "Let's first generate a `neo.SpikeTrain` object and play around with it, to get used to handling NEO data objects.\n",
    "\n",
    "To generate a spike train data, we use here an elephant function `elephant.spike_train_generation.StationaryPoissonProcess()`, which generates a random spike train as a realization of a stationary Poisson process with a given rate. "
   ]
  },
  {
   "cell_type": "code",
   "execution_count": null,
   "metadata": {},
   "outputs": [],
   "source": [
    "# Generate a Poisson spike train\n",
    "rate = 10. * pq.Hz\n",
    "t_start = 0. * pq.ms\n",
    "t_stop = 1000. * pq.ms\n",
    "\n",
    "spiketrain = stgen.StationaryPoissonProcess(rate, t_start, t_stop).generate_spiketrain()"
   ]
  },
  {
   "cell_type": "code",
   "execution_count": null,
   "metadata": {},
   "outputs": [],
   "source": [
    "spiketrain"
   ]
  },
  {
   "cell_type": "code",
   "execution_count": null,
   "metadata": {},
   "outputs": [],
   "source": [
    "# spike times\n",
    "print(spiketrain.times)"
   ]
  },
  {
   "cell_type": "code",
   "execution_count": null,
   "metadata": {},
   "outputs": [],
   "source": [
    "# spike times in the units of second\n",
    "print(spiketrain.times.rescale('s'))"
   ]
  },
  {
   "cell_type": "code",
   "execution_count": null,
   "metadata": {},
   "outputs": [],
   "source": [
    "# spike times as a plain numpy array in the units of second\n",
    "print(spiketrain.rescale('s').magnitude)"
   ]
  },
  {
   "cell_type": "code",
   "execution_count": null,
   "metadata": {},
   "outputs": [],
   "source": [
    "# Generate 10 Poisson spike trains and draw a dot display\n",
    "rate = 10. * pq.Hz\n",
    "t_start = 0. * pq.ms\n",
    "t_stop = 10000. * pq.ms\n",
    "num_spiketrains = 10\n",
    "\n",
    "spiketrains = stgen.StationaryPoissonProcess(rate, t_start, t_stop).generate_n_spiketrains(num_spiketrains)\n",
    "\n",
    "fig, ax = plt.subplots(1, 1, figsize=(12, 3))\n",
    "ax.set_xlabel(\"Time (s)\")\n",
    "ax.set_ylabel(\"Spike train index\")\n",
    "for i, spiketrain in enumerate(spiketrains):\n",
    "    spike_times = spiketrain.times.rescale('s').magnitude\n",
    "    ax.plot(spike_times, np.ones_like(spike_times)*i, 'k.')\n",
    "\n",
    "fig.tight_layout()\n",
    "plt.show()"
   ]
  },
  {
   "cell_type": "markdown",
   "metadata": {},
   "source": [
    "### Exercise\n",
    "* Generate gamma spike trains by using `stgen.StationaryGammaProcess()` instead of `stgen.StationaryPoissonProcess()`, and draw the dot display. Note that you need to give 4 arguments to `stgen.StationaryGammaProcess()`: `rate`, `shape_factor`, `t_start`, and `t_stop`.\n",
    "* Try using different values of `shape_factor` and see how the look of the dot display changes."
   ]
  },
  {
   "cell_type": "markdown",
   "metadata": {},
   "source": [
    "## Task 1.2: analyze spike trains using Elephant functions\n",
    "\n",
    "You can easily perform various analysis on spike trains by applying Elephant functions to `neo.SpikeTrain` objects."
   ]
  },
  {
   "cell_type": "code",
   "execution_count": null,
   "metadata": {},
   "outputs": [],
   "source": [
    "# Generate again 10 Poisson spike trains\n",
    "rate = 10. * pq.Hz\n",
    "t_start = 0. * pq.ms\n",
    "t_stop = 10000. * pq.ms\n",
    "num_spiketrains = 10\n",
    "\n",
    "spiketrains = stgen.StationaryPoissonProcess(rate, t_start, t_stop).generate_n_spiketrains(num_spiketrains)\n",
    "\n",
    "# Compute the mean firing rates of the spike trains\n",
    "mean_rates = []\n",
    "for spiketrain in spiketrains:\n",
    "    mean_rates.append(stats.mean_firing_rate(spiketrain).rescale('Hz'))\n",
    "\n",
    "print(mean_rates)"
   ]
  },
  {
   "cell_type": "code",
   "execution_count": null,
   "metadata": {},
   "outputs": [],
   "source": [
    "# Estimate the instantaneous firing rates of the spike trains\n",
    "inst_rates = []\n",
    "for spiketrain in spiketrains:\n",
    "    inst_rates.append(stats.instantaneous_rate(spiketrain, sampling_period=1.*pq.ms))\n",
    "\n",
    "inst_rates[0]"
   ]
  },
  {
   "cell_type": "code",
   "execution_count": null,
   "metadata": {},
   "outputs": [],
   "source": [
    "inst_rate = inst_rates[0]\n",
    "\n",
    "# neo.AnalogSignal is always a 2-dimensional array: the first dimension is for time, and the second is for channels\n",
    "print(inst_rate.shape)\n",
    "\n",
    "# the time stamps can be obtained as `times` property of the object\n",
    "print(inst_rate.times)\n",
    "\n",
    "# thus, plotting the analog signal as a function of time is as easy as...\n",
    "plt.plot(inst_rate.times, inst_rate) \n",
    "plt.show()"
   ]
  },
  {
   "cell_type": "code",
   "execution_count": null,
   "metadata": {},
   "outputs": [],
   "source": [
    "# Plot the above results separately for each spike train\n",
    "fig, axes = plt.subplots(len(spiketrains), 1, figsize=(12, 12), sharex='all', sharey='all')\n",
    "axes[-1].set_xlabel(\"Time (s)\")\n",
    "axes[-1].set_ylabel(\"Rate (Hz)\")\n",
    "for i, (spiketrain, mean_rate, inst_rate) in enumerate(zip(spiketrains, mean_rates, inst_rates)):\n",
    "    ax = axes[i]\n",
    "    ax.eventplot(spiketrain.times.rescale('s').magnitude, color='k')\n",
    "    xs = inst_rate.times.rescale('s').magnitude\n",
    "    ys = inst_rate.rescale('Hz').magnitude.flatten()\n",
    "    sigma = float(inst_rate.annotations['kernel']['sigma'].split(' ')[0])\n",
    "    ax.plot(xs, ys, color=\"C0\", label=f\"Inst. rate, kernel STD: {sigma:.0f} ms\")\n",
    "    \n",
    "    ax.axhline(mean_rate, ls=':', color='C0', label=f\"Mean rate: {mean_rate.rescale('Hz').magnitude:.1f} Hz\")\n",
    "    ax.axhline(rate, lw=1, ls=':', color='k')\n",
    "    ax.legend(loc='upper right')\n",
    "fig.tight_layout()\n",
    "plt.show()"
   ]
  },
  {
   "cell_type": "code",
   "execution_count": null,
   "metadata": {},
   "outputs": [],
   "source": [
    "# Compute ISIs of the spike trains\n",
    "isis = []\n",
    "for spiketrain in spiketrains:\n",
    "    isis.append(stats.isi(spiketrain).rescale('ms').magnitude)\n",
    "isis = np.concatenate(isis)\n",
    "\n",
    "# Draw the ISI distribution\n",
    "fig, ax = plt.subplots(1, 1)\n",
    "ax.set_xlabel(\"ISI (ms)\")\n",
    "ax.set_ylabel(\"Probability density\")\n",
    "ax.hist(isis, bins='auto', density=True)\n",
    "\n",
    "fig.tight_layout()\n",
    "plt.show()"
   ]
  },
  {
   "cell_type": "markdown",
   "metadata": {},
   "source": [
    "### Exercise\n",
    "* Again, generate gamma spike trains by using `stgen.StationaryGammaProcess()` instead of `stgen.StationaryPoissonProcess()`, and draw the above plots.\n",
    "* Use different values of `shape_factor` and see how the estimated instantaneous rate and the ISI distribution change depending on the regularity/burstiness of the spike trains."
   ]
  },
  {
   "cell_type": "markdown",
   "metadata": {},
   "source": [
    "## Task 1.3 generate nonstationary poisson spike trains and draw PSTH\n",
    "\n",
    "You can genearte Poisson spike trains with time-varying firing rates using `stgen.NonStationaryPoissonProcess()`.\n",
    "You need to specify the time-varing rate profile as an instance of `neo.AnalogSignal` object, as follows:"
   ]
  },
  {
   "cell_type": "code",
   "execution_count": null,
   "metadata": {},
   "outputs": [],
   "source": [
    "# Here we generate a rate profile with a stepwise change in the rate from 10 Hz to 15 Hz\n",
    "rate1 = 10 * pq.Hz\n",
    "rate2 = 15 * pq.Hz\n",
    "sampling_period = 1 * pq.ms\n",
    "t_start = 0 * pq.ms\n",
    "t_stop = 2000 * pq.ms\n",
    "t_rate_jump = 1000 * pq.ms\n",
    "\n",
    "times = np.arange(t_start, t_stop, sampling_period)\n",
    "rate_profile = np.ones_like(times) * rate1\n",
    "rate_profile[times > t_rate_jump] = rate2\n",
    "rate_signal = neo.AnalogSignal(rate_profile, t_start=t_start, sampling_period=sampling_period)\n",
    "\n",
    "plt.plot(rate_signal.times, rate_signal)\n",
    "plt.show()"
   ]
  },
  {
   "cell_type": "code",
   "execution_count": null,
   "metadata": {},
   "outputs": [],
   "source": [
    "# Generate 10 Poisson spike trains with this rate profile\n",
    "num_spiketrains = 10\n",
    "\n",
    "spiketrains = stgen.NonStationaryPoissonProcess(rate_signal).generate_n_spiketrains(num_spiketrains)\n",
    "\n",
    "# Check the generated spike trains in a dot display\n",
    "fig, ax = plt.subplots(1, 1, figsize=(12, 3))\n",
    "ax.set_xlabel(\"Time (s)\")\n",
    "ax.set_ylabel(\"Spike train index\")\n",
    "for i, spiketrain in enumerate(spiketrains):\n",
    "    spike_times = spiketrain.times.rescale('s').magnitude\n",
    "    ax.plot(spike_times, np.ones_like(spike_times)*i, 'k.')\n",
    "\n",
    "fig.tight_layout()\n",
    "plt.show()"
   ]
  },
  {
   "cell_type": "markdown",
   "metadata": {},
   "source": [
    "You can compute a peri-stimulus time histogram (PSTH) by giving a list of `neo.SpikeTrain` objects to the elephant function `stats.time_histogram()`."
   ]
  },
  {
   "cell_type": "code",
   "execution_count": null,
   "metadata": {},
   "outputs": [],
   "source": [
    "# Compute and plot the PSTH\n",
    "bin_size = 100 * pq.ms\n",
    "\n",
    "psth = stats.time_histogram(spiketrains, bin_size, output='rate')\n",
    "\n",
    "fig, ax = plt.subplots(1, 1)\n",
    "ax.set_xlabel(\"Time (ms)\")\n",
    "ax.set_ylabel(\"Firing rate (Hz)\")\n",
    "plt.plot(psth.times.rescale('s'), psth.rescale('Hz'))\n",
    "plt.show()"
   ]
  },
  {
   "cell_type": "markdown",
   "metadata": {},
   "source": [
    "### Exercise\n",
    "* Change the values of `num_spiketrains` and `bin_size`, and see how these parameters affect the amount of fluctuations in the firing rate estimated by the PSTH.  \n",
    "* Again, generate gamma spike trains by using `stgen.StationaryGammaProcess()` instead of `stgen.StationaryPoissonProcess()`, and draw the PSTH.\n",
    "* Use different values of `shape_factor` and see how the effect of `num_spiketrains` and `bin_size` changes depending on the regularity/burstiness of the spike trains."
   ]
  }
 ],
 "metadata": {
  "anaconda-cloud": {},
  "kernelspec": {
   "display_name": "lascon2024_spike_train_analysis",
   "language": "python",
   "name": "python3"
  },
  "language_info": {
   "codemirror_mode": {
    "name": "ipython",
    "version": 3
   },
   "file_extension": ".py",
   "mimetype": "text/x-python",
   "name": "python",
   "nbconvert_exporter": "python",
   "pygments_lexer": "ipython3",
   "version": "3.11.5"
  }
 },
 "nbformat": 4,
 "nbformat_minor": 4
}
